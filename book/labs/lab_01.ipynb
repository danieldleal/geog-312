{
 "cells": [
  {
   "cell_type": "markdown",
   "id": "0",
   "metadata": {},
   "source": [
    "# Lab 1\n",
    "\n",
    "[![Open In Colab](https://colab.research.google.com/assets/colab-badge.svg)](https://colab.research.google.com/github/giswqs/geog-312/blob/main/book/labs/lab_01.ipynb)"
   ]
  },
  {
   "cell_type": "markdown",
   "id": "1",
   "metadata": {},
   "source": [
    "## Exercise 1: Variable Assignment and Basic Operations\n",
    "\n",
    "Create variables to store the following geospatial data:\n",
    "\n",
    "- The latitude and longitude of New York City: 40.7128, -74.0060.\n",
    "- The population of New York City: 8,336,817.\n",
    "- The area of New York City in square kilometers: 783.8.\n",
    "\n",
    "Perform the following tasks:\n",
    "\n",
    "1. Calculate and print the population density of New York City (population per square kilometer).\n",
    "2. Print the coordinates in the format \"Latitude: [latitude], Longitude: [longitude]\"."
   ]
  },
  {
   "cell_type": "code",
   "execution_count": 2,
   "id": "2",
   "metadata": {},
   "outputs": [
    {
     "name": "stdout",
     "output_type": "stream",
     "text": [
      "{'latitude': [40.7128], 'longitude': [-74.006]} 8336817\n"
     ]
    }
   ],
   "source": [
    "NYlatitude = 40.7128\n",
    "NYlongitude = -74.0060\n",
    "\n",
    "NYcoord = {'latitude': [NYlatitude], 'longitude': [NYlongitude]}\n",
    "NYpop = 8336817\n",
    "print(NYcoord, NYpop)"
   ]
  },
  {
   "cell_type": "markdown",
   "id": "3",
   "metadata": {},
   "source": [
    "## Exercise 2: Working with Strings\n",
    "\n",
    "Create a string variable to store the name of a city, such as \"San Francisco\". Perform the following operations:\n",
    "\n",
    "1. Convert the string to lowercase and print the result.\n",
    "2. Convert the string to uppercase and print the result.\n",
    "3. Replace \"San\" with \"Los\" in the city name and print the new string."
   ]
  },
  {
   "cell_type": "code",
   "execution_count": 3,
   "id": "4",
   "metadata": {},
   "outputs": [
    {
     "name": "stdout",
     "output_type": "stream",
     "text": [
      "TEST string\n"
     ]
    }
   ],
   "source": [
    "str1 = 'test'\n",
    "str2 = 'STRING'\n",
    "print(str1.upper(), str2.lower())"
   ]
  },
  {
   "cell_type": "markdown",
   "id": "5",
   "metadata": {},
   "source": [
    "## Exercise 3: Using Lists\n",
    "\n",
    "Create a list of tuples, where each tuple contains the name of a city and its corresponding latitude and longitude:\n",
    "\n",
    "- New York City: (40.7128, -74.0060)\n",
    "- Los Angeles: (34.0522, -118.2437)\n",
    "- Chicago: (41.8781, -87.6298)\n",
    "\n",
    "Perform the following tasks:\n",
    "\n",
    "1. Add a new city (e.g., Miami: (25.7617, -80.1918)) to the list.\n",
    "2. Print the entire list of cities.\n",
    "3. Slice the list to print only the first two cities."
   ]
  },
  {
   "cell_type": "code",
   "execution_count": 4,
   "id": "6",
   "metadata": {},
   "outputs": [
    {
     "name": "stdout",
     "output_type": "stream",
     "text": [
      "[('New York City', 40.7128, -74.006), ('Los Angeles', 34.0522, -118.2437), ('Chicago', 41.8781, -87.6298), ('Miami', 25.7617, -80.1918)]\n",
      "[('New York City', 40.7128, -74.006), ('Los Angeles', 34.0522, -118.2437)]\n"
     ]
    }
   ],
   "source": [
    "cities = [('New York City', 40.7128, -74.0060), ('Los Angeles', 34.0522, -118.2437),('Chicago', 41.8781, -87.6298)]\n",
    "\n",
    "#1\n",
    "cities.append(('Miami', 25.7617, -80.1918))\n",
    "#2 \n",
    "print(cities)\n",
    "#3\n",
    "print(cities[:2])"
   ]
  },
  {
   "cell_type": "code",
   "execution_count": 5,
   "id": "9bddfab6",
   "metadata": {},
   "outputs": [
    {
     "name": "stdout",
     "output_type": "stream",
     "text": [
      "['New York City', 'Los Angeles', 'Chicago', 'Miami']\n"
     ]
    }
   ],
   "source": [
    "print([i[0] for i in cities])\n"
   ]
  },
  {
   "cell_type": "markdown",
   "id": "7",
   "metadata": {},
   "source": [
    "## Exercise 4: Using Tuples\n",
    "\n",
    "Create a tuple to store the coordinates (latitude, longitude) of the Eiffel Tower: (48.8584, 2.2945). Perform the following tasks:\n",
    "\n",
    "1. Access and print the latitude and longitude values from the tuple.\n",
    "2. Try to change the latitude value to 48.8585. What happens? Explain why."
   ]
  },
  {
   "cell_type": "code",
   "execution_count": 6,
   "id": "8",
   "metadata": {},
   "outputs": [
    {
     "name": "stdout",
     "output_type": "stream",
     "text": [
      "(48.8584, 2.2945)\n",
      "(48.8584, 2.2945)\n"
     ]
    }
   ],
   "source": [
    "latitude = 48.8584\n",
    "longitude = 2.2945\n",
    "EFcoord = (latitude, longitude)\n",
    "\n",
    "#1\n",
    "print(EFcoord)\n",
    "\n",
    "#2\n",
    "# An tuple is a immutable data structure\n",
    "latitude = 48.8585\n",
    "\n",
    "print(EFcoord)"
   ]
  },
  {
   "cell_type": "markdown",
   "id": "9",
   "metadata": {},
   "source": [
    "## Exercise 5: Working with Sets\n",
    "\n",
    "Create a set of countries you have visited, such as {\"USA\", \"France\", \"Germany\"}. Perform the following tasks:\n",
    "\n",
    "1. Add a new country to the set.\n",
    "2. Try to add the same country again. What happens?\n",
    "3. Print the updated set."
   ]
  },
  {
   "cell_type": "code",
   "execution_count": 7,
   "id": "10",
   "metadata": {},
   "outputs": [
    {
     "name": "stdout",
     "output_type": "stream",
     "text": [
      "{'USA', 'France', 'Germany'}\n"
     ]
    }
   ],
   "source": [
    "#1\n",
    "countries = {\"USA\", \"France\", \"Germany\"} \n",
    "\n",
    "#2 \n",
    "countries.add(\"USA\")\n",
    "\n",
    "#3\n",
    "print(countries)"
   ]
  },
  {
   "cell_type": "markdown",
   "id": "11",
   "metadata": {},
   "source": [
    "## Exercise 6: Working with Dictionaries\n",
    "\n",
    "Create a dictionary to store information about a specific geospatial feature, such as a river:\n",
    "\n",
    "- Name: \"Amazon River\"\n",
    "- Length: 6400 km\n",
    "- Countries: [\"Brazil\", \"Peru\", \"Colombia\"]\n",
    "\n",
    "Perform the following tasks:\n",
    "\n",
    "1. Add a new key-value pair to the dictionary to store the river's average discharge (e.g., 209,000 m³/s).\n",
    "2. Update the length of the river to 6992 km.\n",
    "3. Print the dictionary."
   ]
  },
  {
   "cell_type": "code",
   "execution_count": 8,
   "id": "12",
   "metadata": {},
   "outputs": [],
   "source": [
    "river = {'Name': 'Amazon River', 'Length': 6400, 'Countries': [\"Brazil\", \"Peru\", \"Colombia\"]}"
   ]
  },
  {
   "cell_type": "code",
   "execution_count": 9,
   "id": "fdc182a1",
   "metadata": {},
   "outputs": [
    {
     "name": "stdout",
     "output_type": "stream",
     "text": [
      "{'Name': 'Amazon River', 'Length': 6992, 'Countries': ['Brazil', 'Peru', 'Colombia'], 'average discharge': 209000}\n"
     ]
    }
   ],
   "source": [
    "#1 \n",
    "river['average discharge']=209000\n",
    "#2\n",
    "river.update(Length=6992)\n",
    "#3\n",
    "print(river)"
   ]
  },
  {
   "cell_type": "markdown",
   "id": "13",
   "metadata": {},
   "source": [
    "## Exercise 7: Nested Data Structures\n",
    "\n",
    "Create a dictionary to represent a city that contains the city's name, population, and coordinates (latitude, longitude):\n",
    "\n",
    "- Name: \"Tokyo\"\n",
    "- Population: 13,515,271\n",
    "- Coordinates: (35.6895, 139.6917)\n",
    "\n",
    "Perform the following tasks:\n",
    "\n",
    "1. Access and print the population of the city.\n",
    "2. Access and print the city's latitude.\n",
    "3. Update the population to 14,000,000 and print the updated dictionary."
   ]
  },
  {
   "cell_type": "code",
   "execution_count": 10,
   "id": "14",
   "metadata": {},
   "outputs": [
    {
     "name": "stdout",
     "output_type": "stream",
     "text": [
      "{'Name': 'Tokyo', 'Population': 13515271, 'Coordinates': (35.6895, 139.6917)}\n",
      "35.6895\n",
      "{'Name': 'Tokyo', 'Population': 14000000, 'Coordinates': (35.6895, 139.6917)}\n"
     ]
    }
   ],
   "source": [
    "city = {'Name':'Tokyo', 'Population': 13515271, 'Coordinates': (35.6895, 139.6917)}\n",
    "#1\n",
    "print(city)\n",
    "#2\n",
    "print(city['Coordinates'][0])\n",
    "#3\n",
    "city.update(Population=14000000)\n",
    "print(city)"
   ]
  },
  {
   "cell_type": "markdown",
   "id": "15",
   "metadata": {},
   "source": [
    "## Exercise 8: List Operations\n",
    "\n",
    "Given the list of cities from Exercise 3, perform the following operations:\n",
    "\n",
    "1. Sort the list of cities alphabetically by name.\n",
    "2. Create a new list that contains only the city names.\n",
    "3. Remove the last city from the original list and print the updated list."
   ]
  },
  {
   "cell_type": "code",
   "execution_count": 11,
   "id": "16",
   "metadata": {},
   "outputs": [
    {
     "name": "stdout",
     "output_type": "stream",
     "text": [
      "[('Chicago', 41.8781, -87.6298), ('Los Angeles', 34.0522, -118.2437), ('Miami', 25.7617, -80.1918), ('New York City', 40.7128, -74.006)]\n",
      "['Chicago', 'Los Angeles', 'Miami', 'New York City']\n",
      "['Chicago', 'Los Angeles', 'Miami']\n"
     ]
    }
   ],
   "source": [
    "#1\n",
    "cities.sort()\n",
    "print(cities)\n",
    "#2\n",
    "citiesNames = [i[0] for i in cities]\n",
    "print(citiesNames)\n",
    "#3\n",
    "citiesNames.pop()\n",
    "print(citiesNames)"
   ]
  },
  {
   "cell_type": "markdown",
   "id": "17",
   "metadata": {},
   "source": [
    "## Exercise 9: Dictionary Operations\n",
    "\n",
    "Using the dictionary from Exercise 6, perform the following tasks:\n",
    "\n",
    "1. Check if the key \"Length\" exists in the dictionary.\n",
    "2. Print all the keys in the dictionary.\n",
    "3. Print all the values in the dictionary."
   ]
  },
  {
   "cell_type": "code",
   "execution_count": 12,
   "id": "18",
   "metadata": {},
   "outputs": [
    {
     "name": "stdout",
     "output_type": "stream",
     "text": [
      "dict_keys(['Name', 'Length', 'Countries', 'average discharge'])\n",
      "dict_values(['Amazon River', 6992, ['Brazil', 'Peru', 'Colombia'], 209000])\n"
     ]
    }
   ],
   "source": [
    "#1\n",
    "river.keys()\n",
    "#2\n",
    "print(river.keys())\n",
    "#3\n",
    "print(river.values())"
   ]
  },
  {
   "cell_type": "markdown",
   "id": "19",
   "metadata": {},
   "source": [
    "## Exercise 10: Practical Application\n",
    "\n",
    "Imagine you have a list of tuples, each representing a location with its name, latitude, and longitude:"
   ]
  },
  {
   "cell_type": "code",
   "execution_count": 13,
   "id": "20",
   "metadata": {},
   "outputs": [],
   "source": [
    "locations = [\n",
    "    (\"Mount Everest\", 27.9881, 86.9250),\n",
    "    (\"K2\", 35.8808, 76.5155),\n",
    "    (\"Kangchenjunga\", 27.7025, 88.1475),\n",
    "]"
   ]
  },
  {
   "cell_type": "markdown",
   "id": "21",
   "metadata": {},
   "source": [
    "Perform the following tasks:\n",
    "\n",
    "1. Create a new list that contains only the names of the locations.\n",
    "2. Create a dictionary where the keys are location names and the values are tuples of their coordinates.\n",
    "3. Print the latitude of \"K2\" using the dictionary."
   ]
  },
  {
   "cell_type": "code",
   "execution_count": 62,
   "id": "22",
   "metadata": {},
   "outputs": [
    {
     "name": "stdout",
     "output_type": "stream",
     "text": [
      "['Mount Everest', 'K2', 'Kangchenjunga']\n",
      "[(27.9881, 86.925), (27.9881, 86.925), (27.9881, 86.925)]\n",
      "{'Mount Everest': (27.9881, 86.925), 'K2': (27.9881, 86.925), 'Kangchenjunga': (27.9881, 86.925)}\n",
      "27.9881\n"
     ]
    }
   ],
   "source": [
    "#1\n",
    "# Keys\n",
    "locationsK = [i[0] for i in locations]\n",
    "print(locationsK)\n",
    "\n",
    "#2\n",
    "# Values\n",
    "locationsV = [locations[0][1:] for i in locations]\n",
    "print(locationsV)\n",
    "locationsDict = dict(zip(locationsK,locationsV))\n",
    "print(locationsDict)\n",
    "\n",
    "#3\n",
    "print(locationsDict['K2'][0])"
   ]
  }
 ],
 "metadata": {
  "kernelspec": {
   "display_name": "Python 3",
   "language": "python",
   "name": "python3"
  },
  "language_info": {
   "codemirror_mode": {
    "name": "ipython",
    "version": 3
   },
   "file_extension": ".py",
   "mimetype": "text/x-python",
   "name": "python",
   "nbconvert_exporter": "python",
   "pygments_lexer": "ipython3",
   "version": "3.12.2"
  }
 },
 "nbformat": 4,
 "nbformat_minor": 5
}
